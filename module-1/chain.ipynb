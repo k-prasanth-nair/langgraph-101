{
 "cells": [
  {
   "cell_type": "code",
   "execution_count": 1,
   "id": "4135592f-299d-431f-9dd9-957abd69dceb",
   "metadata": {},
   "outputs": [],
   "source": [
    "%%capture --no-stderr\n",
    "pip install --quiet -U langchain_openai langchain_core langgraph"
   ]
  },
  {
   "cell_type": "code",
   "execution_count": 2,
   "id": "e2dd0bf6-51f8-4e35-87e3-63ed3e9f1c9b",
   "metadata": {},
   "outputs": [
    {
     "name": "stdout",
     "output_type": "stream",
     "text": [
      "==================================\u001b[1m Ai Message \u001b[0m==================================\n",
      "Name: Model\n",
      "\n",
      "So you said you are learning langgraph?\n",
      "================================\u001b[1m Human Message \u001b[0m=================================\n",
      "Name: Prasanth\n",
      "\n",
      "Yes, that's right.\n",
      "==================================\u001b[1m Ai Message \u001b[0m==================================\n",
      "Name: Model\n",
      "\n",
      "Great, what would you like to learn about.\n",
      "================================\u001b[1m Human Message \u001b[0m=================================\n",
      "Name: Prasanth\n",
      "\n",
      "I want to learn building ai agents using langgraph and llm\n"
     ]
    }
   ],
   "source": [
    "from pprint import pprint\n",
    "from langchain_core.messages import AIMessage, HumanMessage\n",
    "messages = [AIMessage(content=f\"So you said you are learning langgraph?\", name=\"Model\")]\n",
    "messages.append(HumanMessage(content=f\"Yes, that's right.\",name=\"Prasanth\"))\n",
    "messages.append(AIMessage(content=f\"Great, what would you like to learn about.\", name=\"Model\"))\n",
    "messages.append(HumanMessage(content=f\"I want to learn building ai agents using langgraph and llm\", name=\"Prasanth\"))\n",
    "\n",
    "for m in messages:\n",
    "    m.pretty_print()"
   ]
  },
  {
   "cell_type": "code",
   "execution_count": 3,
   "id": "a113b5fb-dafd-4fe1-a139-1ae32f6b44d8",
   "metadata": {},
   "outputs": [],
   "source": [
    "from dotenv import load_dotenv, find_dotenv\n",
    "_ = load_dotenv(find_dotenv()) # read local .env file"
   ]
  },
  {
   "cell_type": "code",
   "execution_count": 4,
   "id": "58bf1f9f-4574-4100-9b52-bcdb89b1ab5b",
   "metadata": {},
   "outputs": [
    {
     "data": {
      "text/plain": [
       "langchain_core.messages.ai.AIMessage"
      ]
     },
     "execution_count": 4,
     "metadata": {},
     "output_type": "execute_result"
    }
   ],
   "source": [
    "from langchain_openai import ChatOpenAI\n",
    "llm = ChatOpenAI(model=\"gpt-4o\")\n",
    "result = llm.invoke(messages)\n",
    "type(result)"
   ]
  },
  {
   "cell_type": "code",
   "execution_count": 5,
   "id": "72ef4888-aa42-46e6-bf5a-41a26493110b",
   "metadata": {},
   "outputs": [
    {
     "data": {
      "text/plain": [
       "AIMessage(content=\"That's an exciting area to dive into! LangGraph and Large Language Models (LLMs) can be powerful tools for building AI agents. Here's a general roadmap to help you get started:\\n\\n1. **Understand the Basics**:\\n   - **LangGraph**: Familiarize yourself with what LangGraph is and how it interacts with language models. LangGraph could be a framework or tool that provides a structured way to work with language models, although I don't have specific details about it. Check for any official documentation or resources.\\n   - **LLMs**: Learn about large language models like GPT-3, GPT-4, and others. Understand their capabilities, limitations, and how they process and generate language.\\n\\n2. **Set Up Your Environment**:\\n   - Ensure you have the necessary software and hardware to run LLMs. This might include Python, specific libraries (such as transformers from Hugging Face), and potentially access to cloud resources if you're working with very large models.\\n\\n3. **Learn About AI Agents**:\\n   - Understand what AI agents are and how they function. AI agents can perform tasks autonomously, interact with users, and make decisions based on input data.\\n   - Study existing AI agents to see how they are structured and what components they include.\\n\\n4. **Explore LangGraph for AI Development**:\\n   - Dive into any documentation or tutorials available for LangGraph. Identify how it can be used to structure or enhance AI agents.\\n   - Experiment with sample projects or code snippets to get hands-on experience.\\n\\n5. **Integrate LLMs**:\\n   - Learn how to integrate LLMs into your AI agent. This involves using APIs or libraries to make your agent capable of understanding and generating human-like text.\\n   - Consider how the LLM can assist in decision-making, conversation, or other specific tasks your AI agent needs to perform.\\n\\n6. **Build and Iterate**:\\n   - Start building a simple AI agent using LangGraph and an LLM. Focus on a specific task or application.\\n   - Test your agent thoroughly and iterate on its design. Use feedback and testing results to improve its performance.\\n\\n7. **Advanced Features**:\\n   - As you become more comfortable, explore advanced features such as multi-turn conversations, memory management, and integrating other AI models for specific tasks (e.g., vision, audio).\\n\\n8. **Deploy and Monitor**:\\n   - Once satisfied with your AI agent, deploy it in a real-world environment or a simulated setting.\\n   - Monitor its performance and gather data to further refine and enhance its capabilities.\\n\\n9. **Community and Resources**:\\n   - Engage with communities focused on LangGraph, LLMs, and AI agents. Platforms like GitHub, Reddit, and specialized forums can be valuable for sharing knowledge and getting support.\\n   - Stay updated with the latest research and developments in the field.\\n\\nBy following these steps, you should be well on your way to building AI agents using LangGraph and LLMs. Remember to continually learn and experiment as this field is rapidly evolving.\", additional_kwargs={'refusal': None}, response_metadata={'token_usage': {'completion_tokens': 617, 'prompt_tokens': 68, 'total_tokens': 685, 'completion_tokens_details': {'accepted_prediction_tokens': 0, 'audio_tokens': 0, 'reasoning_tokens': 0, 'rejected_prediction_tokens': 0}, 'prompt_tokens_details': {'audio_tokens': 0, 'cached_tokens': 0}}, 'model_name': 'gpt-4o-2024-08-06', 'system_fingerprint': 'fp_5f20662549', 'finish_reason': 'stop', 'logprobs': None}, id='run-3d2df54d-7e9a-46f7-afe5-bdbee1c118dc-0', usage_metadata={'input_tokens': 68, 'output_tokens': 617, 'total_tokens': 685, 'input_token_details': {'audio': 0, 'cache_read': 0}, 'output_token_details': {'audio': 0, 'reasoning': 0}})"
      ]
     },
     "execution_count": 5,
     "metadata": {},
     "output_type": "execute_result"
    }
   ],
   "source": [
    "result"
   ]
  },
  {
   "cell_type": "code",
   "execution_count": 6,
   "id": "78da3ef2-93fd-4925-beb1-d394fbfd0d01",
   "metadata": {},
   "outputs": [
    {
     "name": "stdout",
     "output_type": "stream",
     "text": [
      "{'token_usage': {'completion_tokens': 617, 'prompt_tokens': 68, 'total_tokens': 685, 'completion_tokens_details': {'accepted_prediction_tokens': 0, 'audio_tokens': 0, 'reasoning_tokens': 0, 'rejected_prediction_tokens': 0}, 'prompt_tokens_details': {'audio_tokens': 0, 'cached_tokens': 0}}, 'model_name': 'gpt-4o-2024-08-06', 'system_fingerprint': 'fp_5f20662549', 'finish_reason': 'stop', 'logprobs': None}\n"
     ]
    }
   ],
   "source": [
    "print(result.response_metadata)"
   ]
  },
  {
   "cell_type": "code",
   "execution_count": 7,
   "id": "ff93b2ac-38f0-47ee-9ca0-0f7edfe4bb89",
   "metadata": {},
   "outputs": [],
   "source": [
    "def multiply(a: int, b: int) -> int:\n",
    "    \"\"\"Multiply a and b.\n",
    "\n",
    "    Args:\n",
    "        a: first int\n",
    "        b: second int\n",
    "    \"\"\"\n",
    "    return a * b\n",
    "\n",
    "llm_with_tools = llm.bind_tools([multiply])"
   ]
  },
  {
   "cell_type": "code",
   "execution_count": 17,
   "id": "699ae237-9b81-4027-8808-11caf7b804e0",
   "metadata": {},
   "outputs": [
    {
     "data": {
      "text/plain": [
       "'\\nLanguage Model + Tool Prompting\\nUnder the hood, LangChain constructs a specialized prompt that describes all available tools to the LLM. This prompt includes:\\n\\nThe name of the function (multiply)\\nThe function’s docstring (\"Multiply a and b.\\n\\n Args:\\n a: first int\\n b: second int\")\\nThe function signature (which indicates it takes two integers and returns an integer)\\nNatural Language to Structured Function Call\\nWhen you pass the user’s message (\"What is 2 multiplied by 3\") to llm_with_tools.invoke(...), LangChain includes in the prompt something along the lines of:\\n\\n“You have these tools:\\nTool name: multiply\\nDescription: Multiply a and b.\\nSignature: (a: int, b: int) -> int\\nDecide if you need to call this tool based on the user’s query. If you call the tool, produce a structured JSON with the tool name and arguments.”\\n\\nLLM Reasoning\\nThe LLM “reads” the user’s request—“What is 2 multiplied by 3?”—and recognizes that:\\n\\nIt’s a straightforward math operation.\\nThe prompt has told it about a multiply(a, b) tool that does exactly that.\\nSo the LLM produces a tool call (in a special format behind the scenes) that says something like:\\njson\\nCopy code\\n{\\n  \"tool_name\": \"multiply\",\\n  \"arguments\": {\\n    \"a\": 2,\\n    \"b\": 3\\n  }\\n}\\nThis is typically not something you see directly; it happens internally.\\n\\nExecution of the Tool\\nLangChain then parses that tool call JSON, sees that it corresponds to multiply(2, 3), and executes the Python function multiply(a=2, b=3).'"
      ]
     },
     "execution_count": 17,
     "metadata": {},
     "output_type": "execute_result"
    }
   ],
   "source": [
    "tool_call = llm_with_tools.invoke([HumanMessage(content=f\"What is 2 multiplied by 3\", name=\"Prasanth\")])\n",
    "tool_call\n",
    "\n",
    "\"\"\"\n",
    "Language Model + Tool Prompting\n",
    "Under the hood, LangChain constructs a specialized prompt that describes all available tools to the LLM. This prompt includes:\n",
    "\n",
    "The name of the function (multiply)\n",
    "The function’s docstring (\"Multiply a and b.\\n\\n Args:\\n a: first int\\n b: second int\")\n",
    "The function signature (which indicates it takes two integers and returns an integer)\n",
    "Natural Language to Structured Function Call\n",
    "When you pass the user’s message (\"What is 2 multiplied by 3\") to llm_with_tools.invoke(...), LangChain includes in the prompt something along the lines of:\n",
    "\n",
    "“You have these tools:\n",
    "Tool name: multiply\n",
    "Description: Multiply a and b.\n",
    "Signature: (a: int, b: int) -> int\n",
    "Decide if you need to call this tool based on the user’s query. If you call the tool, produce a structured JSON with the tool name and arguments.”\n",
    "\n",
    "LLM Reasoning\n",
    "The LLM “reads” the user’s request—“What is 2 multiplied by 3?”—and recognizes that:\n",
    "\n",
    "It’s a straightforward math operation.\n",
    "The prompt has told it about a multiply(a, b) tool that does exactly that.\n",
    "So the LLM produces a tool call (in a special format behind the scenes) that says something like:\n",
    "json\n",
    "Copy code\n",
    "{\n",
    "  \"tool_name\": \"multiply\",\n",
    "  \"arguments\": {\n",
    "    \"a\": 2,\n",
    "    \"b\": 3\n",
    "  }\n",
    "}\n",
    "This is typically not something you see directly; it happens internally.\n",
    "\n",
    "Execution of the Tool\n",
    "LangChain then parses that tool call JSON, sees that it corresponds to multiply(2, 3), and executes the Python function multiply(a=2, b=3).\"\"\""
   ]
  },
  {
   "cell_type": "code",
   "execution_count": 9,
   "id": "339f7a69-1595-4d55-82a0-4346d416d49e",
   "metadata": {},
   "outputs": [
    {
     "data": {
      "text/plain": [
       "AIMessage(content='', additional_kwargs={'tool_calls': [{'id': 'call_h3BZlguPk6o6ILvptJ5wCMfV', 'function': {'arguments': '{\"a\":2,\"b\":3}', 'name': 'multiply'}, 'type': 'function'}], 'refusal': None}, response_metadata={'token_usage': {'completion_tokens': 18, 'prompt_tokens': 66, 'total_tokens': 84, 'completion_tokens_details': {'accepted_prediction_tokens': 0, 'audio_tokens': 0, 'reasoning_tokens': 0, 'rejected_prediction_tokens': 0}, 'prompt_tokens_details': {'audio_tokens': 0, 'cached_tokens': 0}}, 'model_name': 'gpt-4o-2024-08-06', 'system_fingerprint': 'fp_e161c81bbd', 'finish_reason': 'tool_calls', 'logprobs': None}, id='run-3e2fa8a7-cb53-45c6-93a4-147db734fb3c-0', tool_calls=[{'name': 'multiply', 'args': {'a': 2, 'b': 3}, 'id': 'call_h3BZlguPk6o6ILvptJ5wCMfV', 'type': 'tool_call'}], usage_metadata={'input_tokens': 66, 'output_tokens': 18, 'total_tokens': 84, 'input_token_details': {'audio': 0, 'cache_read': 0}, 'output_token_details': {'audio': 0, 'reasoning': 0}})"
      ]
     },
     "execution_count": 9,
     "metadata": {},
     "output_type": "execute_result"
    }
   ],
   "source": [
    "tool_call = llm_with_tools.invoke([HumanMessage(content=f\"What is the product of 2 & 3\", name=\"Prasanth\")])\n",
    "tool_call"
   ]
  },
  {
   "cell_type": "code",
   "execution_count": 10,
   "id": "328a3016-c734-4ec9-bd25-956f7fdbe56a",
   "metadata": {},
   "outputs": [
    {
     "data": {
      "text/plain": [
       "AIMessage(content='The sum of 2 and 3 is 5.', additional_kwargs={'refusal': None}, response_metadata={'token_usage': {'completion_tokens': 14, 'prompt_tokens': 66, 'total_tokens': 80, 'completion_tokens_details': {'accepted_prediction_tokens': 0, 'audio_tokens': 0, 'reasoning_tokens': 0, 'rejected_prediction_tokens': 0}, 'prompt_tokens_details': {'audio_tokens': 0, 'cached_tokens': 0}}, 'model_name': 'gpt-4o-2024-08-06', 'system_fingerprint': 'fp_d28bcae782', 'finish_reason': 'stop', 'logprobs': None}, id='run-405d352a-450e-4a7e-a5ac-68e521b73e59-0', usage_metadata={'input_tokens': 66, 'output_tokens': 14, 'total_tokens': 80, 'input_token_details': {'audio': 0, 'cache_read': 0}, 'output_token_details': {'audio': 0, 'reasoning': 0}})"
      ]
     },
     "execution_count": 10,
     "metadata": {},
     "output_type": "execute_result"
    }
   ],
   "source": [
    "tool_call = llm_with_tools.invoke([HumanMessage(content=f\"What is the sum of 2 & 3\", name=\"Prasanth\")])\n",
    "tool_call"
   ]
  },
  {
   "cell_type": "code",
   "execution_count": 12,
   "id": "15bedfff-1781-43a1-945a-93b5a85f36dc",
   "metadata": {},
   "outputs": [],
   "source": [
    "from langgraph.graph import MessagesState\n",
    "\n",
    "class MessagesState(MessagesState):\n",
    "    # Add any keys needed beyond messages, which is pre-built \n",
    "    pass"
   ]
  },
  {
   "cell_type": "code",
   "execution_count": 13,
   "id": "88ff6eeb-2960-4a7e-9759-f73ab33bfe9a",
   "metadata": {},
   "outputs": [
    {
     "data": {
      "image/png": "[encoded data removed]",
      "text/plain": [
       "<IPython.core.display.Image object>"
      ]
     },
     "metadata": {},
     "output_type": "display_data"
    }
   ],
   "source": [
    "from IPython.display import Image, display\n",
    "from langgraph.graph import StateGraph, START, END\n",
    "\n",
    "def tool_calling_llm(state: MessagesState):\n",
    "    return {\"messages\": [llm_with_tools.invoke(state[\"messages\"])]}\n",
    "\n",
    "builder = StateGraph(MessagesState)\n",
    "builder.add_node(\"tool_calling_llm\",tool_calling_llm)\n",
    "builder.add_edge(START,\"tool_calling_llm\")\n",
    "builder.add_edge(\"tool_calling_llm\",END)\n",
    "graph = builder.compile()\n",
    "\n",
    "display(Image(graph.get_graph().draw_mermaid_png()))"
   ]
  },
  {
   "cell_type": "code",
   "execution_count": 14,
   "id": "03dd2bda-bea7-4b5d-8598-4478b88293fa",
   "metadata": {},
   "outputs": [
    {
     "name": "stdout",
     "output_type": "stream",
     "text": [
      "================================\u001b[1m Human Message \u001b[0m=================================\n",
      "\n",
      "Hello!\n",
      "==================================\u001b[1m Ai Message \u001b[0m==================================\n",
      "\n",
      "Hello! How can I assist you today?\n"
     ]
    }
   ],
   "source": [
    "messages =  graph.invoke({\"messages\":HumanMessage(content=\"Hello!\")})\n",
    "for m in messages['messages']:\n",
    "    m.pretty_print()"
   ]
  },
  {
   "cell_type": "code",
   "execution_count": 15,
   "id": "6c9a668d-76ee-455f-bde4-de414dfc595d",
   "metadata": {},
   "outputs": [
    {
     "name": "stdout",
     "output_type": "stream",
     "text": [
      "================================\u001b[1m Human Message \u001b[0m=================================\n",
      "\n",
      "What is the sum of 2 and 3?\n",
      "==================================\u001b[1m Ai Message \u001b[0m==================================\n",
      "\n",
      "The sum of 2 and 3 is 5.\n"
     ]
    }
   ],
   "source": [
    "messages =  graph.invoke({\"messages\":HumanMessage(content=\"What is the sum of 2 and 3?\")})\n",
    "for m in messages['messages']:\n",
    "    m.pretty_print()"
   ]
  },
  {
   "cell_type": "code",
   "execution_count": 16,
   "id": "7c18eea0-c656-4c08-9673-7b5d046c74df",
   "metadata": {},
   "outputs": [
    {
     "name": "stdout",
     "output_type": "stream",
     "text": [
      "================================\u001b[1m Human Message \u001b[0m=================================\n",
      "\n",
      "Multiply 2 & 3\n",
      "==================================\u001b[1m Ai Message \u001b[0m==================================\n",
      "Tool Calls:\n",
      "  multiply (call_BS9LuR2VE4whzs95YVu3b3Q8)\n",
      " Call ID: call_BS9LuR2VE4whzs95YVu3b3Q8\n",
      "  Args:\n",
      "    a: 2\n",
      "    b: 3\n"
     ]
    }
   ],
   "source": [
    "messages =  graph.invoke({\"messages\":HumanMessage(content=\"Multiply 2 & 3\")})\n",
    "for m in messages['messages']:\n",
    "    m.pretty_print()"
   ]
  },
  {
   "cell_type": "code",
   "execution_count": null,
   "id": "9cd00e32-5de3-4e4c-8387-0e828457f766",
   "metadata": {},
   "outputs": [],
   "source": []
  }
 ],
 "metadata": {
  "kernelspec": {
   "display_name": "Python 3 (ipykernel)",
   "language": "python",
   "name": "python3"
  },
  "language_info": {
   "codemirror_mode": {
    "name": "ipython",
    "version": 3
   },
   "file_extension": ".py",
   "mimetype": "text/x-python",
   "name": "python",
   "nbconvert_exporter": "python",
   "pygments_lexer": "ipython3",
   "version": "3.13.1"
  }
 },
 "nbformat": 4,
 "nbformat_minor": 5
}
